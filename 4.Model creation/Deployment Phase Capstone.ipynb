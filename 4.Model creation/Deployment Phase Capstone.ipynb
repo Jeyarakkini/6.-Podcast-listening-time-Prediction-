{
 "cells": [
  {
   "cell_type": "code",
   "execution_count": 8,
   "id": "c34a017f",
   "metadata": {},
   "outputs": [],
   "source": [
    "import pickle\n",
    "import pandas as pd\n",
    "from sklearn.model_selection import train_test_split, GridSearchCV\n",
    "from sklearn.preprocessing import StandardScaler\n",
    "from sklearn.feature_selection import SelectKBest, f_regression"
   ]
  },
  {
   "cell_type": "code",
   "execution_count": 9,
   "id": "98308d93",
   "metadata": {},
   "outputs": [],
   "source": [
    "df = pd.read_csv('Preprocessed_Podcast_data.csv')"
   ]
  },
  {
   "cell_type": "code",
   "execution_count": 10,
   "id": "cd1cb008",
   "metadata": {},
   "outputs": [],
   "source": [
    "df=pd.get_dummies(df,columns=[\"Genre\",\"Publication_Day\",\"Publication_Time\",\"Episode_Sentiment\"],drop_first=True)"
   ]
  },
  {
   "cell_type": "code",
   "execution_count": 11,
   "id": "bd952345",
   "metadata": {},
   "outputs": [],
   "source": [
    "df.drop([\"Podcast_Name\",\"Episode_Title\"],axis=1,inplace=True)"
   ]
  },
  {
   "cell_type": "code",
   "execution_count": 12,
   "id": "4e3d6aee",
   "metadata": {},
   "outputs": [
    {
     "name": "stdout",
     "output_type": "stream",
     "text": [
      "Selected Features: Index(['Episode_Length_minutes', 'Number_of_Ads'], dtype='object')\n"
     ]
    }
   ],
   "source": [
    "indep_X=df.drop(['Listening_Time_minutes'], axis=1)\n",
    "dep_Y = df['Listening_Time_minutes']\n",
    "test = SelectKBest(score_func=f_regression,k=2)\n",
    "fit1= test.fit(indep_X,dep_Y)\n",
    "selectk_features = fit1.transform(indep_X)\n",
    " # Get the mask of selected features (True means selected)\n",
    "selected_mask = fit1.get_support()\n",
    "\n",
    "# Get the names of selected features (using the mask)\n",
    "selected_columns = indep_X.columns[selected_mask]\n",
    "\n",
    "# Print selected features\n",
    "print(f\"Selected Features: {selected_columns}\")\n",
    "indep_X_kbest = df[selected_columns]\n",
    "X_train, X_test, y_train, y_test = train_test_split(indep_X_kbest, dep_Y, test_size=0.25, random_state=0)\n",
    "scaler = StandardScaler()\n",
    "X_train_scaled = scaler.fit_transform(X_train)\n",
    "X_test_scaled = scaler.transform(X_test)"
   ]
  },
  {
   "cell_type": "code",
   "execution_count": 13,
   "id": "dcf8aa06",
   "metadata": {},
   "outputs": [
    {
     "data": {
      "text/plain": [
       "array([[-0.59556927,  0.61169271]])"
      ]
     },
     "execution_count": 13,
     "metadata": {},
     "output_type": "execute_result"
    }
   ],
   "source": [
    "preinput=scaler.transform([[45,2]])  # episode_length, no.of.Ads\n",
    "preinput"
   ]
  },
  {
   "cell_type": "code",
   "execution_count": 14,
   "id": "a8992d3c",
   "metadata": {},
   "outputs": [
    {
     "name": "stderr",
     "output_type": "stream",
     "text": [
      "C:\\Anaconda3\\envs\\aiml\\lib\\site-packages\\sklearn\\utils\\fixes.py:230: DeprecationWarning: distutils Version classes are deprecated. Use packaging.version instead.\n",
      "  if _joblib.__version__ >= LooseVersion('0.12'):\n"
     ]
    },
    {
     "data": {
      "text/plain": [
       "array([27.25286374])"
      ]
     },
     "execution_count": 14,
     "metadata": {},
     "output_type": "execute_result"
    }
   ],
   "source": [
    "loaded_model=pickle.load(open(\"finalized_model_Podcast.sav\",'rb')) \n",
    "result=loaded_model.predict(preinput) \n",
    "result"
   ]
  },
  {
   "cell_type": "code",
   "execution_count": null,
   "id": "4bbbf2c0",
   "metadata": {},
   "outputs": [],
   "source": []
  }
 ],
 "metadata": {
  "kernelspec": {
   "display_name": "Python 3 (ipykernel)",
   "language": "python",
   "name": "python3"
  },
  "language_info": {
   "codemirror_mode": {
    "name": "ipython",
    "version": 3
   },
   "file_extension": ".py",
   "mimetype": "text/x-python",
   "name": "python",
   "nbconvert_exporter": "python",
   "pygments_lexer": "ipython3",
   "version": "3.7.1"
  }
 },
 "nbformat": 4,
 "nbformat_minor": 5
}
