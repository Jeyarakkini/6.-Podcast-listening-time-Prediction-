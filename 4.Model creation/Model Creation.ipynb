{
 "cells": [
  {
   "cell_type": "code",
   "execution_count": 1,
   "id": "a713fea5",
   "metadata": {},
   "outputs": [],
   "source": [
    "import pandas as pd\n",
    "import numpy as np\n",
    "from sklearn.model_selection import train_test_split, GridSearchCV\n",
    "from sklearn.preprocessing import StandardScaler\n",
    "from sklearn.feature_selection import SelectKBest, f_regression\n",
    "from sklearn.ensemble import RandomForestRegressor, AdaBoostRegressor\n",
    "from sklearn.neighbors import KNeighborsRegressor\n",
    "from xgboost import XGBRegressor\n",
    "import lightgbm as lgb\n",
    "from sklearn.metrics import r2_score"
   ]
  },
  {
   "cell_type": "code",
   "execution_count": 2,
   "id": "907b3ad2",
   "metadata": {},
   "outputs": [],
   "source": [
    "#!pip install lightgbm"
   ]
  },
  {
   "cell_type": "code",
   "execution_count": 3,
   "id": "f0f03801",
   "metadata": {},
   "outputs": [],
   "source": [
    "df = pd.read_csv('Preprocessed_Podcast_data.csv')"
   ]
  },
  {
   "cell_type": "code",
   "execution_count": 4,
   "id": "a7b03fd7",
   "metadata": {},
   "outputs": [
    {
     "data": {
      "text/plain": [
       "Index(['Podcast_Name', 'Episode_Title', 'Episode_Length_minutes', 'Genre',\n",
       "       'Host_Popularity_percentage', 'Publication_Day', 'Publication_Time',\n",
       "       'Guest_Popularity_percentage', 'Number_of_Ads', 'Episode_Sentiment',\n",
       "       'Listening_Time_minutes'],\n",
       "      dtype='object')"
      ]
     },
     "execution_count": 4,
     "metadata": {},
     "output_type": "execute_result"
    }
   ],
   "source": [
    "df.columns"
   ]
  },
  {
   "cell_type": "code",
   "execution_count": 5,
   "id": "832be025",
   "metadata": {},
   "outputs": [],
   "source": [
    "df=pd.get_dummies(df,columns=[\"Genre\",\"Publication_Day\",\"Publication_Time\",\"Episode_Sentiment\"],drop_first=True)"
   ]
  },
  {
   "cell_type": "code",
   "execution_count": 6,
   "id": "012400b9",
   "metadata": {},
   "outputs": [],
   "source": [
    "df.drop([\"Podcast_Name\",\"Episode_Title\"],axis=1,inplace=True)"
   ]
  },
  {
   "cell_type": "code",
   "execution_count": 7,
   "id": "215ea6fd",
   "metadata": {},
   "outputs": [
    {
     "data": {
      "text/plain": [
       "Index(['Episode_Length_minutes', 'Host_Popularity_percentage',\n",
       "       'Guest_Popularity_percentage', 'Number_of_Ads',\n",
       "       'Listening_Time_minutes', 'Genre_Comedy', 'Genre_Education',\n",
       "       'Genre_Health', 'Genre_Lifestyle', 'Genre_Music', 'Genre_News',\n",
       "       'Genre_Sports', 'Genre_Technology', 'Genre_True Crime',\n",
       "       'Publication_Day_Monday', 'Publication_Day_Saturday',\n",
       "       'Publication_Day_Sunday', 'Publication_Day_Thursday',\n",
       "       'Publication_Day_Tuesday', 'Publication_Day_Wednesday',\n",
       "       'Publication_Time_Evening', 'Publication_Time_Morning',\n",
       "       'Publication_Time_Night', 'Episode_Sentiment_Neutral',\n",
       "       'Episode_Sentiment_Positive'],\n",
       "      dtype='object')"
      ]
     },
     "execution_count": 7,
     "metadata": {},
     "output_type": "execute_result"
    }
   ],
   "source": [
    "df.columns"
   ]
  },
  {
   "cell_type": "code",
   "execution_count": 8,
   "id": "40583e41",
   "metadata": {},
   "outputs": [],
   "source": [
    "indep_X=df.drop(['Listening_Time_minutes'], axis=1)"
   ]
  },
  {
   "cell_type": "code",
   "execution_count": 9,
   "id": "ab1cd08c",
   "metadata": {},
   "outputs": [],
   "source": [
    "dep_Y = df['Listening_Time_minutes']"
   ]
  },
  {
   "cell_type": "code",
   "execution_count": 10,
   "id": "afac752e",
   "metadata": {},
   "outputs": [
    {
     "name": "stdout",
     "output_type": "stream",
     "text": [
      "Selected Features: Index(['Episode_Length_minutes', 'Number_of_Ads'], dtype='object')\n"
     ]
    }
   ],
   "source": [
    " test = SelectKBest(score_func=f_regression,k=2)\n",
    "fit1= test.fit(indep_X,dep_Y)\n",
    "selectk_features = fit1.transform(indep_X)\n",
    " # Get the mask of selected features (True means selected)\n",
    "selected_mask = fit1.get_support()\n",
    "\n",
    "# Get the names of selected features (using the mask)\n",
    "selected_columns = indep_X.columns[selected_mask]\n",
    "\n",
    "# Print selected features\n",
    "print(f\"Selected Features: {selected_columns}\")"
   ]
  },
  {
   "cell_type": "code",
   "execution_count": 11,
   "id": "705aeee4",
   "metadata": {},
   "outputs": [],
   "source": [
    "indep_X_kbest = df[selected_columns]"
   ]
  },
  {
   "cell_type": "code",
   "execution_count": 12,
   "id": "b7819b99",
   "metadata": {},
   "outputs": [],
   "source": [
    "X_train, X_test, y_train, y_test = train_test_split(indep_X_kbest, dep_Y, test_size=0.25, random_state=0)"
   ]
  },
  {
   "cell_type": "code",
   "execution_count": 13,
   "id": "27b13fa6",
   "metadata": {},
   "outputs": [],
   "source": [
    "scaler = StandardScaler()\n",
    "X_train_scaled = scaler.fit_transform(X_train)\n",
    "X_test_scaled = scaler.transform(X_test)"
   ]
  },
  {
   "cell_type": "code",
   "execution_count": 14,
   "id": "155e5aa1",
   "metadata": {},
   "outputs": [
    {
     "name": "stderr",
     "output_type": "stream",
     "text": [
      "C:\\Anaconda3\\envs\\aiml\\lib\\site-packages\\sklearn\\utils\\fixes.py:230: DeprecationWarning: distutils Version classes are deprecated. Use packaging.version instead.\n",
      "  if _joblib.__version__ >= LooseVersion('0.12'):\n"
     ]
    },
    {
     "data": {
      "text/plain": [
       "RandomForestRegressor(bootstrap=True, criterion='mse', max_depth=20,\n",
       "                      max_features='auto', max_leaf_nodes=None,\n",
       "                      min_impurity_decrease=0.0, min_impurity_split=None,\n",
       "                      min_samples_leaf=1, min_samples_split=5,\n",
       "                      min_weight_fraction_leaf=0.0, n_estimators=150,\n",
       "                      n_jobs=None, oob_score=False, random_state=0, verbose=0,\n",
       "                      warm_start=False)"
      ]
     },
     "execution_count": 14,
     "metadata": {},
     "output_type": "execute_result"
    }
   ],
   "source": [
    "rf = RandomForestRegressor(n_estimators=150, max_depth=20, min_samples_split=5, random_state=0)\n",
    "rf.fit(X_train_scaled, y_train)\n",
    "\n"
   ]
  },
  {
   "cell_type": "code",
   "execution_count": 15,
   "id": "7c34470b",
   "metadata": {},
   "outputs": [
    {
     "name": "stderr",
     "output_type": "stream",
     "text": [
      "C:\\Anaconda3\\envs\\aiml\\lib\\site-packages\\sklearn\\utils\\fixes.py:230: DeprecationWarning: distutils Version classes are deprecated. Use packaging.version instead.\n",
      "  if _joblib.__version__ >= LooseVersion('0.12'):\n"
     ]
    },
    {
     "data": {
      "text/plain": [
       "0.8479837290777799"
      ]
     },
     "execution_count": 15,
     "metadata": {},
     "output_type": "execute_result"
    }
   ],
   "source": [
    "y_pred_rf = rf.predict(X_test_scaled)\n",
    "r2_rf = r2_score(y_test, y_pred_rf)\n",
    "r2_rf"
   ]
  },
  {
   "cell_type": "code",
   "execution_count": 16,
   "id": "0621bd31",
   "metadata": {},
   "outputs": [],
   "source": [
    "import pickle"
   ]
  },
  {
   "cell_type": "code",
   "execution_count": 17,
   "id": "7c332010",
   "metadata": {},
   "outputs": [],
   "source": [
    "filename=\"finalized_model_Podcast.sav\""
   ]
  },
  {
   "cell_type": "code",
   "execution_count": 18,
   "id": "47d3a28b",
   "metadata": {},
   "outputs": [],
   "source": [
    "pickle.dump(rf,open(filename,'wb'))"
   ]
  },
  {
   "cell_type": "code",
   "execution_count": 19,
   "id": "1a3f18d0",
   "metadata": {},
   "outputs": [],
   "source": [
    "preinput=scaler.transform([[45,2]])  # episode_length, no.of.Ads"
   ]
  },
  {
   "cell_type": "code",
   "execution_count": 20,
   "id": "835db4a5",
   "metadata": {},
   "outputs": [
    {
     "data": {
      "text/plain": [
       "array([[-0.59556927,  0.61169271]])"
      ]
     },
     "execution_count": 20,
     "metadata": {},
     "output_type": "execute_result"
    }
   ],
   "source": [
    "preinput"
   ]
  },
  {
   "cell_type": "code",
   "execution_count": 21,
   "id": "edfe9f95",
   "metadata": {},
   "outputs": [],
   "source": [
    "loaded_model=pickle.load(open(\"finalized_model_Podcast.sav\",'rb')) "
   ]
  },
  {
   "cell_type": "code",
   "execution_count": 22,
   "id": "62006cce",
   "metadata": {},
   "outputs": [
    {
     "name": "stderr",
     "output_type": "stream",
     "text": [
      "C:\\Anaconda3\\envs\\aiml\\lib\\site-packages\\sklearn\\utils\\fixes.py:230: DeprecationWarning: distutils Version classes are deprecated. Use packaging.version instead.\n",
      "  if _joblib.__version__ >= LooseVersion('0.12'):\n"
     ]
    },
    {
     "data": {
      "text/plain": [
       "array([27.25286374])"
      ]
     },
     "execution_count": 22,
     "metadata": {},
     "output_type": "execute_result"
    }
   ],
   "source": [
    "result=loaded_model.predict(preinput) \n",
    "result"
   ]
  },
  {
   "cell_type": "code",
   "execution_count": null,
   "id": "fbc62303",
   "metadata": {},
   "outputs": [],
   "source": []
  }
 ],
 "metadata": {
  "kernelspec": {
   "display_name": "Python 3 (ipykernel)",
   "language": "python",
   "name": "python3"
  },
  "language_info": {
   "codemirror_mode": {
    "name": "ipython",
    "version": 3
   },
   "file_extension": ".py",
   "mimetype": "text/x-python",
   "name": "python",
   "nbconvert_exporter": "python",
   "pygments_lexer": "ipython3",
   "version": "3.7.1"
  }
 },
 "nbformat": 4,
 "nbformat_minor": 5
}
